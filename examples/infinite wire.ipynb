{
 "cells": [
  {
   "cell_type": "markdown",
   "metadata": {},
   "source": [
    "# Example of simulation for infinite wire\n",
    "\n",
    "Please see the source code and Kwant documentation for details."
   ]
  },
  {
   "cell_type": "code",
   "execution_count": null,
   "metadata": {},
   "outputs": [],
   "source": [
    "from codes import simulation, model\n",
    "import numpy as np\n",
    "import kwant\n",
    "\n",
    "import matplotlib.pyplot as plt\n",
    "%matplotlib inline"
   ]
  },
  {
   "cell_type": "code",
   "execution_count": null,
   "metadata": {},
   "outputs": [],
   "source": [
    "strain = model.delta_epsilon"
   ]
  },
  {
   "cell_type": "markdown",
   "metadata": {},
   "source": [
    "# cross section "
   ]
  },
  {
   "cell_type": "code",
   "execution_count": null,
   "metadata": {},
   "outputs": [],
   "source": [
    "syst = simulation.initialize_system('square', 0.1, 3)\n",
    "kwant.plot(syst);"
   ]
  },
  {
   "cell_type": "code",
   "execution_count": null,
   "metadata": {},
   "outputs": [],
   "source": [
    "syst = simulation.initialize_system('hexagon', 0.1, 3)\n",
    "kwant.plot(syst);"
   ]
  },
  {
   "cell_type": "code",
   "execution_count": null,
   "metadata": {},
   "outputs": [],
   "source": [
    "syst = simulation.initialize_system('square', 0.5, 3)\n",
    "kwant.plot(syst);"
   ]
  },
  {
   "cell_type": "code",
   "execution_count": null,
   "metadata": {},
   "outputs": [],
   "source": [
    "syst = simulation.initialize_system('hexagon', 0.5, 3)\n",
    "kwant.plot(syst);"
   ]
  },
  {
   "cell_type": "markdown",
   "metadata": {},
   "source": [
    "# eigenstates and eigenenergies"
   ]
  },
  {
   "cell_type": "code",
   "execution_count": null,
   "metadata": {},
   "outputs": [],
   "source": [
    "syst_pars, sim_pars = simulation.parameters(\n",
    "    shape='square', grid=0.1, R=3, kz=0, delta_epsilon=strain\n",
    ")\n",
    "\n",
    "syst = simulation.initialize_system(**vars(syst_pars))\n",
    "\n",
    "ev, evec = simulation.diagonalize(syst_pars, sim_pars, \n",
    "                                  number_of_states=6, \n",
    "                                  eigenvectors=True)\n",
    "\n",
    "density = kwant.operator.Density(syst, np.eye(4))\n",
    "wf_sqr = density(evec[:, 0])\n",
    "kwant.plotter.map(syst, wf_sqr);\n",
    "\n",
    "print('energies', np.round(ev, 5))"
   ]
  },
  {
   "cell_type": "code",
   "execution_count": null,
   "metadata": {},
   "outputs": [],
   "source": [
    "syst_pars, sim_pars = simulation.parameters(\n",
    "    shape='square', grid=0.5, R=3, kz=0, delta_epsilon=strain\n",
    ")\n",
    "\n",
    "syst = simulation.initialize_system(**vars(syst_pars))\n",
    "\n",
    "ev, evec = simulation.diagonalize(syst_pars, sim_pars, \n",
    "                                  number_of_states=6, \n",
    "                                  eigenvectors=True)\n",
    "\n",
    "density = kwant.operator.Density(syst, np.eye(4))\n",
    "wf_sqr = density(evec[:, 0])\n",
    "kwant.plotter.map(syst, wf_sqr);\n",
    "\n",
    "print('energies', np.round(ev, 5))"
   ]
  },
  {
   "cell_type": "markdown",
   "metadata": {},
   "source": [
    "# dispersion  (no fields)"
   ]
  },
  {
   "cell_type": "code",
   "execution_count": null,
   "metadata": {},
   "outputs": [],
   "source": [
    "energies = []\n",
    "momenta = np.linspace(-.8, .8, 51)\n",
    "\n",
    "for k in momenta:\n",
    "\n",
    "    syst_pars, sim_pars = simulation.parameters(\n",
    "        shape='square', grid=0.5, R=3, kz=k,\n",
    "        delta_epsilon=strain\n",
    "    )\n",
    "    \n",
    "    ev = simulation.diagonalize(syst_pars, sim_pars, 10)\n",
    "    energies.append(ev)\n",
    "    \n",
    "e0 = energies[len(energies)//2][0]"
   ]
  },
  {
   "cell_type": "code",
   "execution_count": null,
   "metadata": {},
   "outputs": [],
   "source": [
    "plt.plot(momenta, 1000 * (np.array(energies) - e0))\n",
    "plt.xlim(-.8, .8)\n",
    "plt.ylim(0, 350)"
   ]
  },
  {
   "cell_type": "markdown",
   "metadata": {},
   "source": [
    "# dispersion (with fields)"
   ]
  },
  {
   "cell_type": "code",
   "execution_count": null,
   "metadata": {},
   "outputs": [],
   "source": [
    "energies = []\n",
    "momenta = np.linspace(-0.06, 0.06, 51)\n",
    "\n",
    "for k in momenta:\n",
    "\n",
    "    syst_pars, sim_pars = simulation.parameters(\n",
    "        shape='square', grid=0.5, R=3, kz=k, Ex=6e-3, \n",
    "        B=.2, theta=np.pi/2, phi=0, delta_epsilon=strain\n",
    "    )\n",
    "    \n",
    "    ev = simulation.diagonalize(syst_pars, sim_pars, 2)\n",
    "    energies.append(ev)\n",
    "    \n",
    "e0 = energies[len(energies)//2][0]\n",
    "plt.plot(momenta, 1000 * (np.array(energies) - e0))\n",
    "plt.ylim(-.2, .6)"
   ]
  },
  {
   "cell_type": "markdown",
   "metadata": {},
   "source": [
    "# ground state characters and g-factors \n",
    "\n",
    "Different discretization grids"
   ]
  },
  {
   "cell_type": "code",
   "execution_count": null,
   "metadata": {},
   "outputs": [],
   "source": [
    "syst_pars, sim_pars = simulation.parameters(\n",
    "    shape='square', grid=0.5, R=3, kz=0, \n",
    "    B=.001, theta=0, phi=0, delta_epsilon=strain\n",
    ")\n",
    "    \n",
    "simulation.analyse(syst_pars, sim_pars, 2)"
   ]
  },
  {
   "cell_type": "code",
   "execution_count": null,
   "metadata": {},
   "outputs": [],
   "source": [
    "syst_pars, sim_pars = simulation.parameters(\n",
    "    shape='square', grid=0.5, R=3, kz=0, \n",
    "    B=.001, theta=np.pi/2, phi=0, delta_epsilon=strain\n",
    ")\n",
    "    \n",
    "simulation.analyse(syst_pars, sim_pars, 2)"
   ]
  }
 ],
 "metadata": {
  "kernelspec": {
   "display_name": "Python [conda env:sige_wires]",
   "language": "python",
   "name": "conda-env-sige_wires-py"
  },
  "language_info": {
   "codemirror_mode": {
    "name": "ipython",
    "version": 3
   },
   "file_extension": ".py",
   "mimetype": "text/x-python",
   "name": "python",
   "nbconvert_exporter": "python",
   "pygments_lexer": "ipython3",
   "version": "3.6.4"
  }
 },
 "nbformat": 4,
 "nbformat_minor": 2
}
